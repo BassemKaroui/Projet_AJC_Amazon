{
 "cells": [
  {
   "cell_type": "code",
   "execution_count": 1,
   "source": [
    "from pyspark.sql import DataFrameReader\n",
    "from pyspark.sql.functions import explode, col, lit\n",
    "import pyspark.sql.functions as F\n",
    "import pyspark.sql.types as T\n",
    "\n",
    "from datetime import datetime\n",
    "import re\n",
    "try:\n",
    "    import pandas as pd\n",
    "except ModuleNotFoundError:\n",
    "    os.system(\"pip install pandas\")\n",
    "    import pandas as pd"
   ],
   "outputs": [],
   "metadata": {}
  },
  {
   "cell_type": "code",
   "execution_count": 2,
   "source": [
    "url = 'jdbc:postgresql://postgres/amazon' "
   ],
   "outputs": [],
   "metadata": {}
  },
  {
   "cell_type": "code",
   "execution_count": 3,
   "source": [
    "properties = {'user': 'postgres', \n",
    "              'password':'spark123', \n",
    "              'driver':'org.postgresql.Driver'}"
   ],
   "outputs": [],
   "metadata": {}
  },
  {
   "cell_type": "code",
   "execution_count": 33,
   "source": [
    "# reviews_df_1 = DataFrameReader(sqlContext).jdbc(url=url, \n",
    "#                                               properties=properties, \n",
    "#                                               table='reviews')"
   ],
   "outputs": [],
   "metadata": {}
  },
  {
   "cell_type": "markdown",
   "source": [
    "## Reviews"
   ],
   "metadata": {}
  },
  {
   "cell_type": "code",
   "execution_count": 4,
   "source": [
    "reviews_path = './Movies_and_TV.json'"
   ],
   "outputs": [],
   "metadata": {}
  },
  {
   "cell_type": "code",
   "execution_count": 5,
   "source": [
    "raw_reviews_df = sqlContext.read.json(reviews_path)"
   ],
   "outputs": [
    {
     "output_type": "stream",
     "name": "stderr",
     "text": [
      "                                                                                \r"
     ]
    }
   ],
   "metadata": {}
  },
  {
   "cell_type": "code",
   "execution_count": 6,
   "source": [
    "raw_reviews_df.printSchema()"
   ],
   "outputs": [
    {
     "output_type": "stream",
     "name": "stdout",
     "text": [
      "root\n",
      " |-- asin: string (nullable = true)\n",
      " |-- image: array (nullable = true)\n",
      " |    |-- element: string (containsNull = true)\n",
      " |-- overall: double (nullable = true)\n",
      " |-- reviewText: string (nullable = true)\n",
      " |-- reviewTime: string (nullable = true)\n",
      " |-- reviewerID: string (nullable = true)\n",
      " |-- reviewerName: string (nullable = true)\n",
      " |-- style: struct (nullable = true)\n",
      " |    |-- Color:: string (nullable = true)\n",
      " |    |-- Format:: string (nullable = true)\n",
      " |    |-- Shape:: string (nullable = true)\n",
      " |    |-- Size:: string (nullable = true)\n",
      " |-- summary: string (nullable = true)\n",
      " |-- unixReviewTime: long (nullable = true)\n",
      " |-- verified: boolean (nullable = true)\n",
      " |-- vote: string (nullable = true)\n",
      "\n"
     ]
    }
   ],
   "metadata": {
    "scrolled": true
   }
  },
  {
   "cell_type": "code",
   "execution_count": 7,
   "source": [
    "@F.udf(returnType=T.TimestampType())\n",
    "def to_datetime(x):\n",
    "    return datetime.fromtimestamp(x)"
   ],
   "outputs": [],
   "metadata": {}
  },
  {
   "cell_type": "code",
   "execution_count": 8,
   "source": [
    "@F.udf(returnType=T.IntegerType())\n",
    "def clean_vote(x):\n",
    "    return 0 if x is None else int(x.replace(',', ''))"
   ],
   "outputs": [],
   "metadata": {}
  },
  {
   "cell_type": "code",
   "execution_count": 9,
   "source": [
    "reviews_df = raw_reviews_df.withColumn('reviewTime', to_datetime(col('unixReviewTime')))\\\n",
    "                            .withColumn('vote', clean_vote((col('vote'))))\\\n",
    "                            .select(col('asin'), \n",
    "                                    col('reviewerID'), \n",
    "                                    col('reviewerName'), \n",
    "                                    col('reviewTime'), \n",
    "                                    col('verified'), \n",
    "                                    col('vote'), \n",
    "                                    col('summary'), \n",
    "                                    col('reviewText'), \n",
    "                                    col('overall'))"
   ],
   "outputs": [],
   "metadata": {}
  },
  {
   "cell_type": "code",
   "execution_count": 10,
   "source": [
    "reviews_df = reviews_df.dropDuplicates()"
   ],
   "outputs": [],
   "metadata": {}
  },
  {
   "cell_type": "code",
   "execution_count": 11,
   "source": [
    "reviews_df.printSchema()"
   ],
   "outputs": [
    {
     "output_type": "stream",
     "name": "stdout",
     "text": [
      "root\n",
      " |-- asin: string (nullable = true)\n",
      " |-- reviewerID: string (nullable = true)\n",
      " |-- reviewerName: string (nullable = true)\n",
      " |-- reviewTime: timestamp (nullable = true)\n",
      " |-- verified: boolean (nullable = true)\n",
      " |-- vote: integer (nullable = true)\n",
      " |-- summary: string (nullable = true)\n",
      " |-- reviewText: string (nullable = true)\n",
      " |-- overall: double (nullable = true)\n",
      "\n"
     ]
    }
   ],
   "metadata": {}
  },
  {
   "cell_type": "code",
   "execution_count": 13,
   "source": [
    "reviews_df.write.jdbc(url=url, properties=properties, table='reviews', mode='overwrite')"
   ],
   "outputs": [
    {
     "output_type": "stream",
     "name": "stderr",
     "text": [
      "                                                                                \r"
     ]
    }
   ],
   "metadata": {
    "scrolled": false
   }
  },
  {
   "cell_type": "markdown",
   "source": [
    "## Products metadata"
   ],
   "metadata": {}
  },
  {
   "cell_type": "code",
   "execution_count": 4,
   "source": [
    "products_path = './meta_Movies_and_TV.json'"
   ],
   "outputs": [],
   "metadata": {}
  },
  {
   "cell_type": "code",
   "execution_count": 5,
   "source": [
    "raw_products_meta_df = sqlContext.read.json(products_path)"
   ],
   "outputs": [
    {
     "output_type": "stream",
     "name": "stderr",
     "text": [
      "21/08/25 07:41:39 WARN package: Truncated the string representation of a plan since it was too large. This behavior can be adjusted by setting 'spark.sql.debug.maxToStringFields'.\n"
     ]
    }
   ],
   "metadata": {}
  },
  {
   "cell_type": "code",
   "execution_count": 6,
   "source": [
    "raw_products_meta_df.printSchema()"
   ],
   "outputs": [
    {
     "output_type": "stream",
     "name": "stdout",
     "text": [
      "root\n",
      " |-- also_buy: array (nullable = true)\n",
      " |    |-- element: string (containsNull = true)\n",
      " |-- also_view: array (nullable = true)\n",
      " |    |-- element: string (containsNull = true)\n",
      " |-- asin: string (nullable = true)\n",
      " |-- brand: string (nullable = true)\n",
      " |-- category: array (nullable = true)\n",
      " |    |-- element: string (containsNull = true)\n",
      " |-- date: string (nullable = true)\n",
      " |-- description: array (nullable = true)\n",
      " |    |-- element: string (containsNull = true)\n",
      " |-- details: struct (nullable = true)\n",
      " |    |-- \n",
      "    Item Weight: \n",
      "    : string (nullable = true)\n",
      " |    |-- \n",
      "    Package Dimensions: \n",
      "    : string (nullable = true)\n",
      " |    |-- \n",
      "    Product Dimensions: \n",
      "    : string (nullable = true)\n",
      " |    |-- ASIN:: string (nullable = true)\n",
      " |    |-- ASIN: : string (nullable = true)\n",
      " |    |-- Audio CD: string (nullable = true)\n",
      " |    |-- Audio Description:: string (nullable = true)\n",
      " |    |-- Blu-ray Audio: string (nullable = true)\n",
      " |    |-- DVD Audio: string (nullable = true)\n",
      " |    |-- Digital Copy Expiration Date:: string (nullable = true)\n",
      " |    |-- Domestic Shipping: : string (nullable = true)\n",
      " |    |-- Dubbed:: string (nullable = true)\n",
      " |    |-- ISBN-10:: string (nullable = true)\n",
      " |    |-- ISBN-13:: string (nullable = true)\n",
      " |    |-- International Shipping: : string (nullable = true)\n",
      " |    |-- Item model number:: string (nullable = true)\n",
      " |    |-- Label:: string (nullable = true)\n",
      " |    |-- Language:: string (nullable = true)\n",
      " |    |-- Number of Discs:: string (nullable = true)\n",
      " |    |-- Please Note:: string (nullable = true)\n",
      " |    |-- Publisher:: string (nullable = true)\n",
      " |    |-- Run Time:: string (nullable = true)\n",
      " |    |-- SPARS Code:: string (nullable = true)\n",
      " |    |-- Series:: string (nullable = true)\n",
      " |    |-- Shipping Weight:: string (nullable = true)\n",
      " |    |-- Subtitles for the Hearing Impaired:: string (nullable = true)\n",
      " |    |-- Subtitles:: string (nullable = true)\n",
      " |    |-- UPC:: string (nullable = true)\n",
      " |-- feature: array (nullable = true)\n",
      " |    |-- element: string (containsNull = true)\n",
      " |-- fit: string (nullable = true)\n",
      " |-- imageURL: array (nullable = true)\n",
      " |    |-- element: string (containsNull = true)\n",
      " |-- imageURLHighRes: array (nullable = true)\n",
      " |    |-- element: string (containsNull = true)\n",
      " |-- main_cat: string (nullable = true)\n",
      " |-- price: string (nullable = true)\n",
      " |-- rank: string (nullable = true)\n",
      " |-- similar_item: string (nullable = true)\n",
      " |-- tech1: string (nullable = true)\n",
      " |-- tech2: string (nullable = true)\n",
      " |-- title: string (nullable = true)\n",
      "\n"
     ]
    }
   ],
   "metadata": {}
  },
  {
   "cell_type": "code",
   "execution_count": 6,
   "source": [
    "@F.udf(returnType=T.FloatType())\n",
    "def clean_price(x):\n",
    "    price = x.replace(\"$\", '').replace(',', '')\n",
    "    return float(price) if price.replace('.', '').isdigit() else None"
   ],
   "outputs": [],
   "metadata": {}
  },
  {
   "cell_type": "code",
   "execution_count": 7,
   "source": [
    "@F.udf(returnType=T.StringType())\n",
    "def clean_main_cat(x):\n",
    "    return None if x.startswith('<img') else x"
   ],
   "outputs": [],
   "metadata": {}
  },
  {
   "cell_type": "code",
   "execution_count": 8,
   "source": [
    "@F.udf(returnType=T.StringType())\n",
    "def clean_brand(x):\n",
    "    return None if x == '' else x"
   ],
   "outputs": [],
   "metadata": {}
  },
  {
   "cell_type": "code",
   "execution_count": 9,
   "source": [
    "@F.udf(returnType=T.StructType([T.StructField('rank_', T.IntegerType()), \n",
    "                                T.StructField('rank_cat', T.StringType())]))\n",
    "def clean_rank(x):\n",
    "    if x == '[]':\n",
    "        return {'rank_': None, 'rank_cat': None}\n",
    "    else:\n",
    "        out = x.replace(',', '')\n",
    "        out = re.search(r'\\D*(\\d{1,}) in ([^(]+)\\s+\\(?', out)\n",
    "        if out is not None:\n",
    "            out = out.groups()\n",
    "            return {'rank_': int(out[0]), 'rank_cat': out[1].replace('&amp;', '&')}\n",
    "        else:\n",
    "            return {'rank_': out, 'rank_cat': None}"
   ],
   "outputs": [],
   "metadata": {}
  },
  {
   "cell_type": "code",
   "execution_count": 11,
   "source": [
    "product_df = raw_products_meta_df\\\n",
    ".withColumn('price', clean_price(col('price')))\\\n",
    ".withColumn('main_cat', clean_main_cat(col('main_cat')))\\\n",
    ".withColumn('brand', clean_brand(col('brand')))\\\n",
    ".withColumn('rank', clean_rank(col('rank')))\\\n",
    ".withColumn('rank_cat', col('rank').getItem('rank_cat'))\\\n",
    ".withColumn('rank_', col('rank').getItem('rank_'))\\\n",
    ".withColumn('image', col('imageURLHighRes').getItem(0))\\\n",
    ".withColumn('description', col('description').getItem(0))\\\n",
    ".select('asin', 'title', 'main_cat', 'price', 'description', 'image', 'brand', 'rank_', 'rank_cat')"
   ],
   "outputs": [],
   "metadata": {}
  },
  {
   "cell_type": "code",
   "execution_count": 10,
   "source": [
    "# product_df = raw_products_meta_df\\\n",
    "# .withColumn('price', clean_price(col('price')))\\\n",
    "# .withColumn('main_cat', clean_main_cat(col('main_cat')))\\\n",
    "# .withColumn('brand', clean_brand(col('brand')))\\\n",
    "# .withColumn('rank', clean_rank(col('rank')))\\\n",
    "# .withColumn('rank_cat', col('rank').getItem('rank_cat'))\\\n",
    "# .withColumn('rank_', col('rank').getItem('rank_'))\\\n",
    "# .withColumn('image', col('imageURLHighRes').getItem(0))\\\n",
    "# .withColumn('description', col('description').getItem(0))\\\n",
    "# .withColumn('item_weight', col('details').getItem('\\n    Item Weight: \\n    ').alias('item_weight'))\\\n",
    "# .withColumn('package_dimensions', col('details').getItem('\\n    Package Dimensions: \\n    ').alias('package_dimensions'))\\\n",
    "# .withColumn('product_dimensions', col('details').getItem('\\n    Product Dimensions: \\n    ').alias('product_dimensions'))\\\n",
    "# .withColumn('asin1', col('details').getItem('ASIN:').alias('asin1'))\\\n",
    "# .withColumn('asin2', col('details').getItem('ASIN: ').alias('asin2'))\\\n",
    "# .withColumn('audio_cd', col('details').getItem('Audio CD').alias('audio_cd'))\\\n",
    "# .withColumn('audio_description', col('details').getItem('Audio Description:').alias('audio_description'))\\\n",
    "# .withColumn('blue_ray_audio', col('details').getItem('Blu-ray Audio').alias('blue_ray_audio'))\\\n",
    "# .withColumn('dvd_audio', col('details').getItem('DVD Audio').alias('dvd_audio'))\\\n",
    "# .withColumn('digital_copy_expiration_date', col('details').getItem('Digital Copy Expiration Date:').alias('digital_copy_expiration_date'))\\\n",
    "# .withColumn('domestic_shipping', col('details').getItem('Domestic Shipping: ').alias('domestic_shipping'))\\\n",
    "# .withColumn('dubbed', col('details').getItem('Dubbed:').alias('dubbed'))\\\n",
    "# .withColumn('isbn10', col('details').getItem('ISBN-10:').alias('isbn10'))\\\n",
    "# .withColumn('isbn13', col('details').getItem('ISBN-13:').alias('isbn13'))\\\n",
    "# .withColumn('international_shipping', col('details').getItem('International Shipping: ').alias('international_shipping'))\\\n",
    "# .withColumn('item_model_number', col('details').getItem('Item model number:').alias('item_model_number'))\\\n",
    "# .withColumn('label', col('details').getItem('Label:').alias('label'))\\\n",
    "# .withColumn('language', col('details').getItem('Language:').alias('language'))\\\n",
    "# .withColumn('n_discs', col('details').getItem('Number of Discs:').alias('n_discs'))\\\n",
    "# .withColumn('please_note', col('details').getItem('Please Note:').alias('please_note'))\\\n",
    "# .withColumn('publisher', col('details').getItem('Publisher:').alias('publisher'))\\\n",
    "# .withColumn('run_time', col('details').getItem('Run Time:').alias('run_time'))\\\n",
    "# .withColumn('spars_code', col('details').getItem('SPARS Code:').alias('spars_code'))\\\n",
    "# .withColumn('series', col('details').getItem('Series:').alias('series'))\\\n",
    "# .withColumn('shipping_weight', col('details').getItem('Shipping Weight:').alias('shipping_weight'))\\\n",
    "# .withColumn('subtitles', col('details').getItem('Subtitles:').alias('subtitles'))\\\n",
    "# .withColumn('subtitles_hearing_impaired', col('details').getItem('Subtitles for the Hearing Impaired:').alias('subtitles_hearing_impaired'))\\\n",
    "# .withColumn('upc', col('details').getItem('UPC:').alias('upc'))\\\n",
    "# .select('asin', 'title', 'main_cat', 'price', 'description', 'image', 'brand', 'rank_', 'rank_cat', \n",
    "#         'item_weight', 'package_dimensions', 'product_dimensions', 'asin1', 'asin2', 'audio_cd', 'audio_description', \n",
    "#         'blue_ray_audio', 'dvd_audio', 'digital_copy_expiration_date', 'domestic_shipping', 'dubbed', \n",
    "#         'isbn10', 'isbn13', 'international_shipping', 'item_model_number', 'label', 'language', \n",
    "#         'n_discs', 'please_note', 'publisher', 'run_time', 'spars_code', 'series', 'shipping_weight', \n",
    "#         'subtitles', 'subtitles_hearing_impaired', 'upc'\n",
    "#        )"
   ],
   "outputs": [
    {
     "output_type": "error",
     "ename": "SyntaxError",
     "evalue": "invalid syntax (3266846723.py, line 38)",
     "traceback": [
      "\u001b[0;36m  File \u001b[0;32m\"/tmp/ipykernel_793886/3266846723.py\"\u001b[0;36m, line \u001b[0;32m38\u001b[0m\n\u001b[0;31m    .select('asin', 'title', 'main_cat', 'price', 'description', 'image', 'brand', 'rank_', 'rank_cat',\u001b[0m\n\u001b[0m    ^\u001b[0m\n\u001b[0;31mSyntaxError\u001b[0m\u001b[0;31m:\u001b[0m invalid syntax\n"
     ]
    }
   ],
   "metadata": {}
  },
  {
   "cell_type": "code",
   "execution_count": 12,
   "source": [
    "product_df.printSchema()"
   ],
   "outputs": [
    {
     "output_type": "stream",
     "name": "stdout",
     "text": [
      "root\n",
      " |-- asin: string (nullable = true)\n",
      " |-- title: string (nullable = true)\n",
      " |-- main_cat: string (nullable = true)\n",
      " |-- price: float (nullable = true)\n",
      " |-- description: string (nullable = true)\n",
      " |-- image: string (nullable = true)\n",
      " |-- brand: string (nullable = true)\n",
      " |-- rank_: integer (nullable = true)\n",
      " |-- rank_cat: string (nullable = true)\n",
      "\n"
     ]
    }
   ],
   "metadata": {}
  },
  {
   "cell_type": "code",
   "execution_count": 13,
   "source": [
    "product_df = product_df.dropDuplicates()"
   ],
   "outputs": [],
   "metadata": {}
  },
  {
   "cell_type": "code",
   "execution_count": 14,
   "source": [
    "product_df.write.jdbc(url=url, properties=properties, table='products', mode='overwrite')"
   ],
   "outputs": [
    {
     "output_type": "stream",
     "name": "stderr",
     "text": [
      "                                                                                \r"
     ]
    }
   ],
   "metadata": {
    "scrolled": false
   }
  },
  {
   "cell_type": "code",
   "execution_count": 18,
   "source": [
    "also_buy_df = raw_products_meta_df.select('asin', explode(col('also_buy')).alias('also_buy')).dropDuplicates()\n",
    "also_view_df = raw_products_meta_df.select('asin', explode(col('also_view')).alias('also_view')).dropDuplicates()\n",
    "categories_df = raw_products_meta_df.select('asin', explode(col('category')).alias('category')).dropDuplicates()\n",
    "products_description_df = raw_products_meta_df.select('asin', explode(col('description')).alias('description')).dropDuplicates()\n",
    "products_feature_df = raw_products_meta_df.select('asin', explode(col('feature')).alias('feature')).dropDuplicates()\n",
    "products_imgs_df = raw_products_meta_df.select('asin', explode(col('imageURLHighRes')).alias('image')).dropDuplicates()"
   ],
   "outputs": [],
   "metadata": {}
  },
  {
   "cell_type": "code",
   "execution_count": 19,
   "source": [
    "also_buy_df.write.jdbc(url=url, properties=properties, table='also_buy', mode='overwrite')\n",
    "also_view_df.write.jdbc(url=url, properties=properties, table='also_view', mode='overwrite')\n",
    "categories_df.write.jdbc(url=url, properties=properties, table='categories', mode='overwrite')\n",
    "products_description_df.write.jdbc(url=url, properties=properties, table='products_description', mode='overwrite')\n",
    "products_feature_df.write.jdbc(url=url, properties=properties, table='products_feature', mode='overwrite')\n",
    "products_imgs_df.write.jdbc(url=url, properties=properties, table='products_images', mode='overwrite')"
   ],
   "outputs": [
    {
     "output_type": "stream",
     "name": "stderr",
     "text": [
      "                                                                                \r"
     ]
    }
   ],
   "metadata": {}
  }
 ],
 "metadata": {
  "kernelspec": {
   "display_name": "Python 3 (ipykernel)",
   "language": "python",
   "name": "python3"
  },
  "language_info": {
   "codemirror_mode": {
    "name": "ipython",
    "version": 3
   },
   "file_extension": ".py",
   "mimetype": "text/x-python",
   "name": "python",
   "nbconvert_exporter": "python",
   "pygments_lexer": "ipython3",
   "version": "3.8.10"
  }
 },
 "nbformat": 4,
 "nbformat_minor": 5
}