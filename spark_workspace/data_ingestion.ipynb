{
 "cells": [
  {
   "cell_type": "code",
   "execution_count": 1,
   "id": "a6197a72",
   "metadata": {},
   "outputs": [],
   "source": [
    "from pyspark.sql import DataFrameReader\n",
    "from pyspark.sql.functions import explode, col, lit\n",
    "import pyspark.sql.functions as F\n",
    "import pyspark.sql.types as T\n",
    "\n",
    "from datetime import datetime\n",
    "import re\n",
    "try:\n",
    "    import pandas as pd\n",
    "except ModuleNotFoundError:\n",
    "    os.system(\"pip install pandas\")\n",
    "    import pandas as pd"
   ]
  },
  {
   "cell_type": "code",
   "execution_count": 2,
   "id": "6e05ed98",
   "metadata": {},
   "outputs": [],
   "source": [
    "url = 'jdbc:postgresql://postgres/amazon' "
   ]
  },
  {
   "cell_type": "code",
   "execution_count": 3,
   "id": "40baf7be",
   "metadata": {},
   "outputs": [],
   "source": [
    "properties = {'user': 'postgres', \n",
    "              'password':'spark123', \n",
    "              'driver':'org.postgresql.Driver'}"
   ]
  },
  {
   "cell_type": "code",
   "execution_count": 33,
   "id": "8e4112f1",
   "metadata": {},
   "outputs": [],
   "source": [
    "# reviews_df_1 = DataFrameReader(sqlContext).jdbc(url=url, \n",
    "#                                               properties=properties, \n",
    "#                                               table='reviews')"
   ]
  },
  {
   "cell_type": "markdown",
   "id": "299ee700",
   "metadata": {},
   "source": [
    "## Reviews"
   ]
  },
  {
   "cell_type": "code",
   "execution_count": 4,
   "id": "8ecbbcff",
   "metadata": {},
   "outputs": [],
   "source": [
    "reviews_path = './Movies_and_TV.json'"
   ]
  },
  {
   "cell_type": "code",
   "execution_count": 5,
   "id": "6d9d4280",
   "metadata": {},
   "outputs": [
    {
     "name": "stderr",
     "output_type": "stream",
     "text": [
      "                                                                                \r"
     ]
    }
   ],
   "source": [
    "raw_reviews_df = sqlContext.read.json(reviews_path)"
   ]
  },
  {
   "cell_type": "code",
   "execution_count": 6,
   "id": "2da63c19",
   "metadata": {
    "scrolled": true
   },
   "outputs": [
    {
     "name": "stdout",
     "output_type": "stream",
     "text": [
      "root\n",
      " |-- asin: string (nullable = true)\n",
      " |-- image: array (nullable = true)\n",
      " |    |-- element: string (containsNull = true)\n",
      " |-- overall: double (nullable = true)\n",
      " |-- reviewText: string (nullable = true)\n",
      " |-- reviewTime: string (nullable = true)\n",
      " |-- reviewerID: string (nullable = true)\n",
      " |-- reviewerName: string (nullable = true)\n",
      " |-- style: struct (nullable = true)\n",
      " |    |-- Color:: string (nullable = true)\n",
      " |    |-- Format:: string (nullable = true)\n",
      " |    |-- Shape:: string (nullable = true)\n",
      " |    |-- Size:: string (nullable = true)\n",
      " |-- summary: string (nullable = true)\n",
      " |-- unixReviewTime: long (nullable = true)\n",
      " |-- verified: boolean (nullable = true)\n",
      " |-- vote: string (nullable = true)\n",
      "\n"
     ]
    }
   ],
   "source": [
    "raw_reviews_df.printSchema()"
   ]
  },
  {
   "cell_type": "code",
   "execution_count": 7,
   "id": "fc2cac26",
   "metadata": {},
   "outputs": [],
   "source": [
    "@F.udf(returnType=T.TimestampType())\n",
    "def to_datetime(x):\n",
    "    return datetime.fromtimestamp(x)"
   ]
  },
  {
   "cell_type": "code",
   "execution_count": 8,
   "id": "c8cc51f1",
   "metadata": {},
   "outputs": [],
   "source": [
    "@F.udf(returnType=T.IntegerType())\n",
    "def clean_vote(x):\n",
    "    return 0 if x is None else int(x.replace(',', ''))"
   ]
  },
  {
   "cell_type": "code",
   "execution_count": 9,
   "id": "3f3ea852",
   "metadata": {},
   "outputs": [],
   "source": [
    "reviews_df = raw_reviews_df.withColumn('reviewTime', to_datetime(col('unixReviewTime')))\\\n",
    "                            .withColumn('vote', clean_vote((col('vote'))))\\\n",
    "                            .select(col('asin'), \n",
    "                                    col('reviewerID'), \n",
    "                                    col('reviewerName'), \n",
    "                                    col('reviewTime'), \n",
    "                                    col('verified'), \n",
    "                                    col('vote'), \n",
    "                                    col('summary'), \n",
    "                                    col('reviewText'), \n",
    "                                    col('overall'))"
   ]
  },
  {
   "cell_type": "code",
   "execution_count": 10,
   "id": "65c98034",
   "metadata": {},
   "outputs": [],
   "source": [
    "reviews_df = reviews_df.dropDuplicates()"
   ]
  },
  {
   "cell_type": "code",
   "execution_count": 11,
   "id": "80d19879",
   "metadata": {},
   "outputs": [
    {
     "name": "stdout",
     "output_type": "stream",
     "text": [
      "root\n",
      " |-- asin: string (nullable = true)\n",
      " |-- reviewerID: string (nullable = true)\n",
      " |-- reviewerName: string (nullable = true)\n",
      " |-- reviewTime: timestamp (nullable = true)\n",
      " |-- verified: boolean (nullable = true)\n",
      " |-- vote: integer (nullable = true)\n",
      " |-- summary: string (nullable = true)\n",
      " |-- reviewText: string (nullable = true)\n",
      " |-- overall: double (nullable = true)\n",
      "\n"
     ]
    }
   ],
   "source": [
    "reviews_df.printSchema()"
   ]
  },
  {
   "cell_type": "code",
   "execution_count": 13,
   "id": "ed497453",
   "metadata": {
    "scrolled": false
   },
   "outputs": [
    {
     "name": "stderr",
     "output_type": "stream",
     "text": [
      "                                                                                \r"
     ]
    }
   ],
   "source": [
    "reviews_df.write.jdbc(url=url, properties=properties, table='reviews', mode='overwrite')"
   ]
  },
  {
   "cell_type": "markdown",
   "id": "82d89293",
   "metadata": {},
   "source": [
    "## Products metadata"
   ]
  },
  {
   "cell_type": "code",
   "execution_count": 4,
   "id": "6206779f",
   "metadata": {},
   "outputs": [],
   "source": [
    "products_path = './meta_Movies_and_TV.json'"
   ]
  },
  {
   "cell_type": "code",
   "execution_count": 5,
   "id": "4e83b4cf",
   "metadata": {},
   "outputs": [
    {
     "name": "stderr",
     "output_type": "stream",
     "text": [
      "21/08/24 20:13:57 WARN package: Truncated the string representation of a plan since it was too large. This behavior can be adjusted by setting 'spark.sql.debug.maxToStringFields'.\n"
     ]
    }
   ],
   "source": [
    "raw_products_meta_df = sqlContext.read.json(products_path)"
   ]
  },
  {
   "cell_type": "code",
   "execution_count": 6,
   "id": "a5f80a9d",
   "metadata": {},
   "outputs": [
    {
     "name": "stdout",
     "output_type": "stream",
     "text": [
      "root\n",
      " |-- also_buy: array (nullable = true)\n",
      " |    |-- element: string (containsNull = true)\n",
      " |-- also_view: array (nullable = true)\n",
      " |    |-- element: string (containsNull = true)\n",
      " |-- asin: string (nullable = true)\n",
      " |-- brand: string (nullable = true)\n",
      " |-- category: array (nullable = true)\n",
      " |    |-- element: string (containsNull = true)\n",
      " |-- date: string (nullable = true)\n",
      " |-- description: array (nullable = true)\n",
      " |    |-- element: string (containsNull = true)\n",
      " |-- details: struct (nullable = true)\n",
      " |    |-- \n",
      "    Item Weight: \n",
      "    : string (nullable = true)\n",
      " |    |-- \n",
      "    Package Dimensions: \n",
      "    : string (nullable = true)\n",
      " |    |-- \n",
      "    Product Dimensions: \n",
      "    : string (nullable = true)\n",
      " |    |-- ASIN:: string (nullable = true)\n",
      " |    |-- ASIN: : string (nullable = true)\n",
      " |    |-- Audio CD: string (nullable = true)\n",
      " |    |-- Audio Description:: string (nullable = true)\n",
      " |    |-- Blu-ray Audio: string (nullable = true)\n",
      " |    |-- DVD Audio: string (nullable = true)\n",
      " |    |-- Digital Copy Expiration Date:: string (nullable = true)\n",
      " |    |-- Domestic Shipping: : string (nullable = true)\n",
      " |    |-- Dubbed:: string (nullable = true)\n",
      " |    |-- ISBN-10:: string (nullable = true)\n",
      " |    |-- ISBN-13:: string (nullable = true)\n",
      " |    |-- International Shipping: : string (nullable = true)\n",
      " |    |-- Item model number:: string (nullable = true)\n",
      " |    |-- Label:: string (nullable = true)\n",
      " |    |-- Language:: string (nullable = true)\n",
      " |    |-- Number of Discs:: string (nullable = true)\n",
      " |    |-- Please Note:: string (nullable = true)\n",
      " |    |-- Publisher:: string (nullable = true)\n",
      " |    |-- Run Time:: string (nullable = true)\n",
      " |    |-- SPARS Code:: string (nullable = true)\n",
      " |    |-- Series:: string (nullable = true)\n",
      " |    |-- Shipping Weight:: string (nullable = true)\n",
      " |    |-- Subtitles for the Hearing Impaired:: string (nullable = true)\n",
      " |    |-- Subtitles:: string (nullable = true)\n",
      " |    |-- UPC:: string (nullable = true)\n",
      " |-- feature: array (nullable = true)\n",
      " |    |-- element: string (containsNull = true)\n",
      " |-- fit: string (nullable = true)\n",
      " |-- imageURL: array (nullable = true)\n",
      " |    |-- element: string (containsNull = true)\n",
      " |-- imageURLHighRes: array (nullable = true)\n",
      " |    |-- element: string (containsNull = true)\n",
      " |-- main_cat: string (nullable = true)\n",
      " |-- price: string (nullable = true)\n",
      " |-- rank: string (nullable = true)\n",
      " |-- similar_item: string (nullable = true)\n",
      " |-- tech1: string (nullable = true)\n",
      " |-- tech2: string (nullable = true)\n",
      " |-- title: string (nullable = true)\n",
      "\n"
     ]
    }
   ],
   "source": [
    "raw_products_meta_df.printSchema()"
   ]
  },
  {
   "cell_type": "code",
   "execution_count": 7,
   "id": "f42501c0",
   "metadata": {},
   "outputs": [],
   "source": [
    "@F.udf(returnType=T.FloatType())\n",
    "def clean_price(x):\n",
    "    price = x.replace(\"$\", '').replace(',', '')\n",
    "    return float(price) if price.replace('.', '').isdigit() else None"
   ]
  },
  {
   "cell_type": "code",
   "execution_count": 8,
   "id": "0a9302bf",
   "metadata": {},
   "outputs": [],
   "source": [
    "@F.udf(returnType=T.StringType())\n",
    "def clean_main_cat(x):\n",
    "    return None if x.startswith('<img') else x"
   ]
  },
  {
   "cell_type": "code",
   "execution_count": 9,
   "id": "895bfb53",
   "metadata": {},
   "outputs": [],
   "source": [
    "@F.udf(returnType=T.StringType())\n",
    "def clean_brand(x):\n",
    "    return None if x == '' else x"
   ]
  },
  {
   "cell_type": "code",
   "execution_count": 10,
   "id": "d98de881",
   "metadata": {},
   "outputs": [],
   "source": [
    "@F.udf(returnType=T.StructType([T.StructField('rank_', T.IntegerType()), \n",
    "                                T.StructField('rank_cat', T.StringType())]))\n",
    "def clean_rank(x):\n",
    "    if x == '[]':\n",
    "        return {'rank_': None, 'rank_cat': None}\n",
    "    else:\n",
    "        out = x.replace(',', '')\n",
    "        out = re.search(r'\\D*(\\d{1,}) in ([^(]+)\\s+\\(?', out)\n",
    "        if out is not None:\n",
    "            out = out.groups()\n",
    "            return {'rank_': int(out[0]), 'rank_cat': out[1].replace('&amp;', '&')}\n",
    "        else:\n",
    "            return {'rank_': out, 'rank_cat': None}"
   ]
  },
  {
   "cell_type": "code",
   "execution_count": 11,
   "id": "a6d9945d",
   "metadata": {},
   "outputs": [],
   "source": [
    "product_df = raw_products_meta_df\\\n",
    ".withColumn('price', clean_price(col('price')))\\\n",
    ".withColumn('main_cat', clean_main_cat(col('main_cat')))\\\n",
    ".withColumn('brand', clean_brand(col('brand')))\\\n",
    ".withColumn('rank', clean_rank(col('rank')))\\\n",
    ".withColumn('rank_cat', col('rank').getItem('rank_cat'))\\\n",
    ".withColumn('rank_', col('rank').getItem('rank_'))\\\n",
    ".withColumn('image', col('imageURLHighRes').getItem(0))\\\n",
    ".withColumn('description', col('description').getItem(0))\\\n",
    ".withColumn('item_weight', col('details').getItem('\\n    Item Weight: \\n    ').alias('item_weight'))\\\n",
    ".withColumn('package_dimensions', col('details').getItem('\\n    Package Dimensions: \\n    ').alias('package_dimensions'))\\\n",
    ".withColumn('product_dimensions', col('details').getItem('\\n    Product Dimensions: \\n    ').alias('product_dimensions'))\\\n",
    ".withColumn('asin1', col('details').getItem('ASIN:').alias('asin1'))\\\n",
    ".withColumn('asin2', col('details').getItem('ASIN: ').alias('asin2'))\\\n",
    ".withColumn('audio_cd', col('details').getItem('Audio CD').alias('audio_cd'))\\\n",
    ".withColumn('audio_description', col('details').getItem('Audio Description:').alias('audio_description'))\\\n",
    ".withColumn('blue_ray_audio', col('details').getItem('Blu-ray Audio').alias('blue_ray_audio'))\\\n",
    ".withColumn('dvd_audio', col('details').getItem('DVD Audio').alias('dvd_audio'))\\\n",
    ".withColumn('digital_copy_expiration_date', col('details').getItem('Digital Copy Expiration Date:').alias('digital_copy_expiration_date'))\\\n",
    ".withColumn('domestic_shipping', col('details').getItem('Domestic Shipping: ').alias('domestic_shipping'))\\\n",
    ".withColumn('dubbed', col('details').getItem('Dubbed:').alias('dubbed'))\\\n",
    ".withColumn('isbn10', col('details').getItem('ISBN-10:').alias('isbn10'))\\\n",
    ".withColumn('isbn13', col('details').getItem('ISBN-13:').alias('isbn13'))\\\n",
    ".withColumn('international_shipping', col('details').getItem('International Shipping: ').alias('international_shipping'))\\\n",
    ".withColumn('item_model_number', col('details').getItem('Item model number:').alias('item_model_number'))\\\n",
    ".withColumn('label', col('details').getItem('Label:').alias('label'))\\\n",
    ".withColumn('language', col('details').getItem('Language:').alias('language'))\\\n",
    ".withColumn('n_discs', col('details').getItem('Number of Discs:').alias('n_discs'))\\\n",
    ".withColumn('please_note', col('details').getItem('Please Note:').alias('please_note'))\\\n",
    ".withColumn('publisher', col('details').getItem('Publisher:').alias('publisher'))\\\n",
    ".withColumn('run_time', col('details').getItem('Run Time:').alias('run_time'))\\\n",
    ".withColumn('spars_code', col('details').getItem('SPARS Code:').alias('spars_code'))\\\n",
    ".withColumn('series', col('details').getItem('Series:').alias('series'))\\\n",
    ".withColumn('shipping_weight', col('details').getItem('Shipping Weight:').alias('shipping_weight'))\\\n",
    ".withColumn('subtitles', col('details').getItem('Subtitles:').alias('subtitles'))\\\n",
    ".withColumn('subtitles_hearing_impaired', col('details').getItem('Subtitles for the Hearing Impaired:').alias('subtitles_hearing_impaired'))\\\n",
    ".withColumn('upc', col('details').getItem('UPC:').alias('upc'))\\\n",
    ".select('asin', 'title', 'main_cat', 'price', 'description', 'image', 'brand', 'rank_', 'rank_cat', 'item_weight', \n",
    "        'package_dimensions', 'product_dimensions', 'asin1', 'asin2', 'audio_cd', 'audio_description', \n",
    "        'blue_ray_audio', 'dvd_audio', 'digital_copy_expiration_date', 'domestic_shipping', 'dubbed', \n",
    "        'isbn10', 'isbn13', 'international_shipping', 'item_model_number', 'label', 'language', \n",
    "        'n_discs', 'please_note', 'publisher', 'run_time', 'spars_code', 'series', 'shipping_weight', \n",
    "        'subtitles', 'subtitles_hearing_impaired', 'upc')"
   ]
  },
  {
   "cell_type": "code",
   "execution_count": 12,
   "id": "31adabc8",
   "metadata": {},
   "outputs": [
    {
     "name": "stdout",
     "output_type": "stream",
     "text": [
      "root\n",
      " |-- asin: string (nullable = true)\n",
      " |-- title: string (nullable = true)\n",
      " |-- main_cat: string (nullable = true)\n",
      " |-- price: float (nullable = true)\n",
      " |-- description: string (nullable = true)\n",
      " |-- image: string (nullable = true)\n",
      " |-- brand: string (nullable = true)\n",
      " |-- rank_: integer (nullable = true)\n",
      " |-- rank_cat: string (nullable = true)\n",
      " |-- item_weight: string (nullable = true)\n",
      " |-- package_dimensions: string (nullable = true)\n",
      " |-- product_dimensions: string (nullable = true)\n",
      " |-- asin1: string (nullable = true)\n",
      " |-- asin2: string (nullable = true)\n",
      " |-- audio_cd: string (nullable = true)\n",
      " |-- audio_description: string (nullable = true)\n",
      " |-- blue_ray_audio: string (nullable = true)\n",
      " |-- dvd_audio: string (nullable = true)\n",
      " |-- digital_copy_expiration_date: string (nullable = true)\n",
      " |-- domestic_shipping: string (nullable = true)\n",
      " |-- dubbed: string (nullable = true)\n",
      " |-- isbn10: string (nullable = true)\n",
      " |-- isbn13: string (nullable = true)\n",
      " |-- international_shipping: string (nullable = true)\n",
      " |-- item_model_number: string (nullable = true)\n",
      " |-- label: string (nullable = true)\n",
      " |-- language: string (nullable = true)\n",
      " |-- n_discs: string (nullable = true)\n",
      " |-- please_note: string (nullable = true)\n",
      " |-- publisher: string (nullable = true)\n",
      " |-- run_time: string (nullable = true)\n",
      " |-- spars_code: string (nullable = true)\n",
      " |-- series: string (nullable = true)\n",
      " |-- shipping_weight: string (nullable = true)\n",
      " |-- subtitles: string (nullable = true)\n",
      " |-- subtitles_hearing_impaired: string (nullable = true)\n",
      " |-- upc: string (nullable = true)\n",
      "\n"
     ]
    }
   ],
   "source": [
    "product_df.printSchema()"
   ]
  },
  {
   "cell_type": "code",
   "execution_count": 14,
   "id": "b909fcd4",
   "metadata": {},
   "outputs": [],
   "source": [
    "product_df = product_df.dropDuplicates()"
   ]
  },
  {
   "cell_type": "code",
   "execution_count": 17,
   "id": "c7732b1e",
   "metadata": {
    "scrolled": false
   },
   "outputs": [
    {
     "name": "stderr",
     "output_type": "stream",
     "text": [
      "                                                                                \r"
     ]
    }
   ],
   "source": [
    "product_df.write.jdbc(url=url, properties=properties, table='products', mode='overwrite')"
   ]
  },
  {
   "cell_type": "code",
   "execution_count": 18,
   "id": "4074779d",
   "metadata": {},
   "outputs": [],
   "source": [
    "also_buy_df = raw_products_meta_df.select('asin', explode(col('also_buy')).alias('also_buy')).dropDuplicates()\n",
    "also_view_df = raw_products_meta_df.select('asin', explode(col('also_view')).alias('also_view')).dropDuplicates()\n",
    "categories_df = raw_products_meta_df.select('asin', explode(col('category')).alias('category')).dropDuplicates()\n",
    "products_description_df = raw_products_meta_df.select('asin', explode(col('description')).alias('description')).dropDuplicates()\n",
    "products_feature_df = raw_products_meta_df.select('asin', explode(col('feature')).alias('feature')).dropDuplicates()\n",
    "products_imgs_df = raw_products_meta_df.select('asin', explode(col('imageURLHighRes')).alias('image')).dropDuplicates()"
   ]
  },
  {
   "cell_type": "code",
   "execution_count": 19,
   "id": "34016672",
   "metadata": {},
   "outputs": [
    {
     "name": "stderr",
     "output_type": "stream",
     "text": [
      "                                                                                \r"
     ]
    }
   ],
   "source": [
    "also_buy_df.write.jdbc(url=url, properties=properties, table='also_buy', mode='overwrite')\n",
    "also_view_df.write.jdbc(url=url, properties=properties, table='also_view', mode='overwrite')\n",
    "categories_df.write.jdbc(url=url, properties=properties, table='categories', mode='overwrite')\n",
    "products_description_df.write.jdbc(url=url, properties=properties, table='products_description', mode='overwrite')\n",
    "products_feature_df.write.jdbc(url=url, properties=properties, table='products_feature', mode='overwrite')\n",
    "products_imgs_df.write.jdbc(url=url, properties=properties, table='products_images', mode='overwrite')"
   ]
  }
 ],
 "metadata": {
  "kernelspec": {
   "display_name": "Python 3 (ipykernel)",
   "language": "python",
   "name": "python3"
  },
  "language_info": {
   "codemirror_mode": {
    "name": "ipython",
    "version": 3
   },
   "file_extension": ".py",
   "mimetype": "text/x-python",
   "name": "python",
   "nbconvert_exporter": "python",
   "pygments_lexer": "ipython3",
   "version": "3.8.10"
  }
 },
 "nbformat": 4,
 "nbformat_minor": 5
}
