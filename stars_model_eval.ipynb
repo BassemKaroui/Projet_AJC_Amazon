{
 "cells": [
  {
   "cell_type": "code",
   "execution_count": 1,
   "id": "4861aedc-8539-4d08-b16a-e92f0b4420c8",
   "metadata": {},
   "outputs": [],
   "source": [
    "import torch\n",
    "import torch.nn as nn\n",
    "import torch.nn.functional as F\n",
    "import torch.cuda.amp as amp\n",
    "from torch.utils.data import Dataset, DataLoader\n",
    "import pandas as pd\n",
    "import numpy as np\n",
    "import os\n",
    "import transformers\n",
    "from transformers import AutoTokenizer, AutoModelForSequenceClassification\n",
    "from tqdm.notebook import tqdm"
   ]
  },
  {
   "cell_type": "code",
   "execution_count": 2,
   "id": "ad932353-9eca-4036-9aa5-e3b617962eae",
   "metadata": {},
   "outputs": [],
   "source": [
    "checkpoint = \"nlptown/bert-base-multilingual-uncased-sentiment\"\n",
    "tokenizer = AutoTokenizer.from_pretrained(checkpoint)\n",
    "model = AutoModelForSequenceClassification.from_pretrained(checkpoint)"
   ]
  },
  {
   "cell_type": "code",
   "execution_count": 3,
   "id": "13db490c-06a5-4d38-8390-d70ffd138d34",
   "metadata": {},
   "outputs": [],
   "source": [
    "device = torch.device('cuda' if torch.cuda.is_available() else 'cpu')\n",
    "model.to(device);"
   ]
  },
  {
   "cell_type": "code",
   "execution_count": 4,
   "id": "e39d2230-04ce-48c4-860b-67b415f0d117",
   "metadata": {},
   "outputs": [],
   "source": [
    "path = './spark_workspace/web_app/data/reviews.csv'"
   ]
  },
  {
   "cell_type": "code",
   "execution_count": 5,
   "id": "4b6cbf39-d160-466b-a69b-eb343ac266bd",
   "metadata": {},
   "outputs": [],
   "source": [
    "reviews_df = pd.read_csv(path, usecols=['reviewText', 'overall'], nrows=100000, keep_default_na=False)"
   ]
  },
  {
   "cell_type": "code",
   "execution_count": 6,
   "id": "9a684856-4c9d-4a86-83df-51544dbf4a18",
   "metadata": {},
   "outputs": [],
   "source": [
    "class ReviewsDataset(Dataset):\n",
    "    \n",
    "    def __init__(self, df):\n",
    "        super(ReviewsDataset, self).__init__()\n",
    "        self.reviews = df.reviewText\n",
    "        self.targets = df.overall\n",
    "        \n",
    "    def __len__(self):\n",
    "        return len(self.targets)\n",
    "    \n",
    "    def __getitem__(self, idx):\n",
    "        reviews = self.reviews.iloc[idx]\n",
    "        target = self.targets.iloc[idx]-1\n",
    "        return reviews, target"
   ]
  },
  {
   "cell_type": "code",
   "execution_count": 7,
   "id": "04ec52de-b108-4942-aa31-d980daf9b31f",
   "metadata": {},
   "outputs": [],
   "source": [
    "reviews_ds = ReviewsDataset(reviews_df)"
   ]
  },
  {
   "cell_type": "code",
   "execution_count": 8,
   "id": "81730ba0-2985-4c2c-aa34-c04bc7818572",
   "metadata": {},
   "outputs": [],
   "source": [
    "class DataCollator:\n",
    "    \n",
    "    def __init__(self, tokenizer):\n",
    "        self.tokenizer = tokenizer\n",
    "        \n",
    "    def __call__(self, data):\n",
    "        \n",
    "        reviews, targets = zip(*data)\n",
    "        reviews = self.tokenizer(list(reviews),\n",
    "                                 padding=True, \n",
    "                                 truncation=True, \n",
    "                                 return_tensors='pt')\n",
    "        targets = torch.tensor(targets, dtype=torch.float32)\n",
    "        return reviews, targets"
   ]
  },
  {
   "cell_type": "code",
   "execution_count": 9,
   "id": "9cef3e7a-77bf-4777-b207-2ed9dcc5f862",
   "metadata": {},
   "outputs": [],
   "source": [
    "data_collator = DataCollator(tokenizer)"
   ]
  },
  {
   "cell_type": "code",
   "execution_count": 13,
   "id": "7d6a71c4-48fa-4435-a74f-0c942e36c7f4",
   "metadata": {},
   "outputs": [],
   "source": [
    "batch_size = 128-16"
   ]
  },
  {
   "cell_type": "code",
   "execution_count": 14,
   "id": "d8fa6d83-6b64-4bc9-bc9a-2e72c11f85df",
   "metadata": {},
   "outputs": [],
   "source": [
    "reviews_dl = DataLoader(reviews_ds, batch_size=batch_size, collate_fn=data_collator)"
   ]
  },
  {
   "cell_type": "code",
   "execution_count": 15,
   "id": "32b22823-3c98-43c6-8317-05220f6d260e",
   "metadata": {},
   "outputs": [],
   "source": [
    "N = len(reviews_df)"
   ]
  },
  {
   "cell_type": "code",
   "execution_count": 16,
   "id": "37fc79ca-37e1-4e3d-9a47-fb3b7a341179",
   "metadata": {},
   "outputs": [],
   "source": [
    "top_1_acc = 0\n",
    "top_2_acc = 0\n",
    "off_by_1 = 0"
   ]
  },
  {
   "cell_type": "code",
   "execution_count": 17,
   "id": "259dcf72-ebec-49df-8bef-5cf8a893790d",
   "metadata": {},
   "outputs": [],
   "source": [
    "@torch.no_grad()\n",
    "@amp.autocast()\n",
    "def accuracies(model, dl, N):\n",
    "    global top_1_acc\n",
    "    global top_2_acc\n",
    "    global off_by_1\n",
    "    model.eval()\n",
    "    for i, (reviews, targets) in tqdm(enumerate(dl), total=len(dl)):\n",
    "        reviews = {k: v.to(device) for k, v in reviews.items()}\n",
    "        targets = targets.unsqueeze(dim=-1).to(device)\n",
    "        out = model(**reviews)\n",
    "        _, top_2 = torch.topk(out.logits, 2, dim=-1)\n",
    "        out = top_2 == targets\n",
    "        off_by_1 += ((top_2[:, 0] == targets) | (top_2[:, 0]+1 == targets) | (top_2[:, 0]-1 == targets)).sum().item()\n",
    "        top_1_acc += out[:, 0].sum().item()\n",
    "        top_2_acc += out.sum().item()\n",
    "    return top_1_acc/N, top_2_acc/N, off_by_1/N"
   ]
  },
  {
   "cell_type": "code",
   "execution_count": 18,
   "id": "e6a11a0c-4273-4532-b2a1-82f239bb41b5",
   "metadata": {
    "tags": []
   },
   "outputs": [
    {
     "data": {
      "application/vnd.jupyter.widget-view+json": {
       "model_id": "21f0023155514c9d85d6872fd2709736",
       "version_major": 2,
       "version_minor": 0
      },
      "text/plain": [
       "HBox(children=(FloatProgress(value=0.0, max=893.0), HTML(value='')))"
      ]
     },
     "metadata": {},
     "output_type": "display_data"
    },
    {
     "name": "stdout",
     "output_type": "stream",
     "text": [
      "\n"
     ]
    },
    {
     "ename": "ValueError",
     "evalue": "too many values to unpack (expected 2)",
     "output_type": "error",
     "traceback": [
      "\u001b[0;31m---------------------------------------------------------------------------\u001b[0m",
      "\u001b[0;31mValueError\u001b[0m                                Traceback (most recent call last)",
      "\u001b[0;32m<ipython-input-18-cebcac8df2e7>\u001b[0m in \u001b[0;36m<module>\u001b[0;34m\u001b[0m\n\u001b[0;32m----> 1\u001b[0;31m \u001b[0mtop_1_acc\u001b[0m\u001b[0;34m,\u001b[0m \u001b[0mtop_2_acc\u001b[0m \u001b[0;34m=\u001b[0m \u001b[0maccuracies\u001b[0m\u001b[0;34m(\u001b[0m\u001b[0mmodel\u001b[0m\u001b[0;34m,\u001b[0m \u001b[0mreviews_dl\u001b[0m\u001b[0;34m,\u001b[0m \u001b[0mN\u001b[0m\u001b[0;34m)\u001b[0m\u001b[0;34m\u001b[0m\u001b[0;34m\u001b[0m\u001b[0m\n\u001b[0m",
      "\u001b[0;31mValueError\u001b[0m: too many values to unpack (expected 2)"
     ]
    }
   ],
   "source": [
    "top_1_acc, top_2_acc, off_by_1 = accuracies(model, reviews_dl, N)"
   ]
  },
  {
   "cell_type": "code",
   "execution_count": 20,
   "id": "5f67f6f6-4ee4-41e1-9b06-132aa178b5b1",
   "metadata": {},
   "outputs": [
    {
     "data": {
      "text/plain": [
       "0.64508"
      ]
     },
     "execution_count": 20,
     "metadata": {},
     "output_type": "execute_result"
    }
   ],
   "source": [
    "top_1_acc/N"
   ]
  },
  {
   "cell_type": "code",
   "execution_count": 21,
   "id": "7c4e59d6-fe41-4b76-835a-7c9a572b7b0c",
   "metadata": {},
   "outputs": [
    {
     "data": {
      "text/plain": [
       "0.85822"
      ]
     },
     "execution_count": 21,
     "metadata": {},
     "output_type": "execute_result"
    }
   ],
   "source": [
    "top_2_acc/N"
   ]
  },
  {
   "cell_type": "code",
   "execution_count": 22,
   "id": "b260a8fb-585e-4132-9f11-0156c6e4549e",
   "metadata": {},
   "outputs": [
    {
     "data": {
      "text/plain": [
       "79.79195"
      ]
     },
     "execution_count": 22,
     "metadata": {},
     "output_type": "execute_result"
    }
   ],
   "source": [
    "off_by_1/N"
   ]
  },
  {
   "cell_type": "markdown",
   "id": "fe2bf1d8-8b93-4922-87be-bef1e652e5dc",
   "metadata": {},
   "source": [
    "### Based on 4,000,000 reviews"
   ]
  },
  {
   "cell_type": "code",
   "execution_count": 16,
   "id": "b3d00dc8-0192-4ba3-ac98-533471c8d38f",
   "metadata": {},
   "outputs": [
    {
     "data": {
      "text/plain": [
       "0.6472885"
      ]
     },
     "execution_count": 16,
     "metadata": {},
     "output_type": "execute_result"
    }
   ],
   "source": [
    "top_1_acc"
   ]
  },
  {
   "cell_type": "code",
   "execution_count": 17,
   "id": "98dbd1cf-ea65-4eed-9d33-c0825048548c",
   "metadata": {},
   "outputs": [
    {
     "data": {
      "text/plain": [
       "0.86649025"
      ]
     },
     "execution_count": 17,
     "metadata": {},
     "output_type": "execute_result"
    }
   ],
   "source": [
    "top_2_acc"
   ]
  },
  {
   "cell_type": "markdown",
   "id": "c9a8c4de-466e-44bc-a29d-e0987ae9d4c5",
   "metadata": {},
   "source": [
    "## Based on 100,000 reviews"
   ]
  },
  {
   "cell_type": "code",
   "execution_count": 14,
   "id": "c5268342-2e0a-4f83-9fdf-337466382786",
   "metadata": {},
   "outputs": [
    {
     "data": {
      "text/plain": [
       "0.64509"
      ]
     },
     "execution_count": 14,
     "metadata": {},
     "output_type": "execute_result"
    }
   ],
   "source": [
    "top_1_acc"
   ]
  },
  {
   "cell_type": "code",
   "execution_count": 15,
   "id": "7be36487-24de-45e8-89ea-1bc5f0ba82a3",
   "metadata": {},
   "outputs": [
    {
     "data": {
      "text/plain": [
       "0.85823"
      ]
     },
     "execution_count": 15,
     "metadata": {},
     "output_type": "execute_result"
    }
   ],
   "source": [
    "top_2_acc"
   ]
  }
 ],
 "metadata": {
  "kernelspec": {
   "display_name": "Python 3",
   "language": "python",
   "name": "python3"
  },
  "language_info": {
   "codemirror_mode": {
    "name": "ipython",
    "version": 3
   },
   "file_extension": ".py",
   "mimetype": "text/x-python",
   "name": "python",
   "nbconvert_exporter": "python",
   "pygments_lexer": "ipython3",
   "version": "3.8.11"
  }
 },
 "nbformat": 4,
 "nbformat_minor": 5
}
